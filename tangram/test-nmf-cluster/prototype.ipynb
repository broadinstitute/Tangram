{
 "cells": [
  {
   "cell_type": "code",
   "execution_count": 1,
   "id": "498e0bdb",
   "metadata": {},
   "outputs": [],
   "source": [
    "import scanpy as sc"
   ]
  },
  {
   "cell_type": "code",
   "execution_count": 2,
   "id": "66536da0",
   "metadata": {},
   "outputs": [],
   "source": [
    "def adata_to_nmf_factor_expression(adata, cluster_label, nmf_coeffs, sample_name, add_density=True):\n",
    "    \"\"\"\n",
    "    Convert an AnnData to a new AnnData with cluster expressions. Clusters are based on `cluster_label` \n",
    "    in `adata.obs`.  The returned AnnData has an observation for each cluster, with the \n",
    "    cluster-level expression equals to the average expression for that cluster.\n",
    "    All annotations in `adata.obs` except `cluster_label` are discarded in the returned AnnData.\n",
    "    \n",
    "    Args:\n",
    "        adata (AnnData): NMF `W` AnnData object (obs=factor, var=genes)\n",
    "        cluster_label (String): field in `adata.obs` used for aggregating values\n",
    "        nmf_coeffs (pd.DataFrame): NMF `H` matrix (factor by sample)\n",
    "        sample_name (String): name of the sample to be mapped as labeled in `nmf_coeffs`\n",
    "        scale (bool): Optional. Whether weight input single cell by # of cells in cluster. Default is True.\n",
    "        add_density (bool): Optional. If True, the normalized number of cells in each cluster is \n",
    "        added to the returned AnnData as obs.cluster_density. Default is True.\n",
    "\n",
    "    Returns:\n",
    "        AnnData: aggregated single cell data\n",
    "\n",
    "    \"\"\"\n",
    "    try:\n",
    "        unique_labels = adata.obs[cluster_label].unique()\n",
    "    except KeyError as e:\n",
    "        raise ValueError(\"Provided label must belong to adata.obs.\")\n",
    "    \n",
    "    new_obs = pd.DataFrame({cluster_label: unique_labels})\n",
    "    adata_ret = sc.AnnData(obs=new_obs, var=adata.var, uns=adata.uns)\n",
    "    X_new = np.empty((len(unique_labels), len(adata.var))).astype(object)\n",
    "    \n",
    "    for index, l in enumerate(unique_labels):\n",
    "        X_new[index] = np.multiply(adata[adata.obs[cluster_label] == l].X, nmf_coeffs[sample_name].loc[l])\n",
    "    adata_ret.X = X_new\n",
    "\n",
    "    if add_density:\n",
    "        adata_ret.obs[\"cluster_density\"] = adata_ret.obs[cluster_label].map(\n",
    "            lambda i: nmf_coeffs[sample_name][i]\n",
    "        )\n",
    "        adata_ret.obs['cluster_density'] /= adata_ret.obs['cluster_density'].sum()\n",
    "\n",
    "    return adata_ret"
   ]
  },
  {
   "cell_type": "markdown",
   "id": "e4e16d0e",
   "metadata": {},
   "source": [
    "## Load inputs\n",
    "\n",
    "- nmf `W` loaded as ann data\n",
    "- nmf `H`"
   ]
  },
  {
   "cell_type": "code",
   "execution_count": 3,
   "id": "ef1c0bbe",
   "metadata": {},
   "outputs": [],
   "source": [
    "data_path = '/gstore/home/tripaa18/MEL/melanoma-st/priya_analysis/data/'"
   ]
  },
  {
   "cell_type": "code",
   "execution_count": 4,
   "id": "c803e309",
   "metadata": {},
   "outputs": [
    {
     "data": {
      "text/plain": [
       "AnnData object with n_obs × n_vars = 7 × 1500\n",
       "    obs: 'cluster_id'"
      ]
     },
     "execution_count": 4,
     "metadata": {},
     "output_type": "execute_result"
    }
   ],
   "source": [
    "adata = sc.read_h5ad(data_path+'melanoma_nmf_w_1500_norm10k.h5ad')\n",
    "adata"
   ]
  },
  {
   "cell_type": "code",
   "execution_count": 5,
   "id": "49ee785d",
   "metadata": {},
   "outputs": [
    {
     "data": {
      "text/plain": [
       "1500"
      ]
     },
     "execution_count": 5,
     "metadata": {},
     "output_type": "execute_result"
    }
   ],
   "source": [
    "len(adata.var)"
   ]
  },
  {
   "cell_type": "code",
   "execution_count": 6,
   "id": "ed5f73df",
   "metadata": {},
   "outputs": [
    {
     "data": {
      "text/plain": [
       "array(['V1', 'V2', 'V3', 'V4', 'V5', 'V6', 'V7'], dtype=object)"
      ]
     },
     "execution_count": 6,
     "metadata": {},
     "output_type": "execute_result"
    }
   ],
   "source": [
    "adata.obs['cluster_id'].unique()"
   ]
  },
  {
   "cell_type": "code",
   "execution_count": 7,
   "id": "856811bb",
   "metadata": {},
   "outputs": [
    {
     "data": {
      "text/html": [
       "<div>\n",
       "<style scoped>\n",
       "    .dataframe tbody tr th:only-of-type {\n",
       "        vertical-align: middle;\n",
       "    }\n",
       "\n",
       "    .dataframe tbody tr th {\n",
       "        vertical-align: top;\n",
       "    }\n",
       "\n",
       "    .dataframe thead th {\n",
       "        text-align: right;\n",
       "    }\n",
       "</style>\n",
       "<table border=\"1\" class=\"dataframe\">\n",
       "  <thead>\n",
       "    <tr style=\"text-align: right;\">\n",
       "      <th></th>\n",
       "      <th>cluster_id</th>\n",
       "    </tr>\n",
       "  </thead>\n",
       "  <tbody>\n",
       "    <tr>\n",
       "      <th>V1</th>\n",
       "      <td>V1</td>\n",
       "    </tr>\n",
       "    <tr>\n",
       "      <th>V2</th>\n",
       "      <td>V2</td>\n",
       "    </tr>\n",
       "    <tr>\n",
       "      <th>V3</th>\n",
       "      <td>V3</td>\n",
       "    </tr>\n",
       "    <tr>\n",
       "      <th>V4</th>\n",
       "      <td>V4</td>\n",
       "    </tr>\n",
       "    <tr>\n",
       "      <th>V5</th>\n",
       "      <td>V5</td>\n",
       "    </tr>\n",
       "    <tr>\n",
       "      <th>V6</th>\n",
       "      <td>V6</td>\n",
       "    </tr>\n",
       "    <tr>\n",
       "      <th>V7</th>\n",
       "      <td>V7</td>\n",
       "    </tr>\n",
       "  </tbody>\n",
       "</table>\n",
       "</div>"
      ],
      "text/plain": [
       "   cluster_id\n",
       "V1         V1\n",
       "V2         V2\n",
       "V3         V3\n",
       "V4         V4\n",
       "V5         V5\n",
       "V6         V6\n",
       "V7         V7"
      ]
     },
     "execution_count": 7,
     "metadata": {},
     "output_type": "execute_result"
    }
   ],
   "source": [
    "adata.obs"
   ]
  },
  {
   "cell_type": "code",
   "execution_count": 8,
   "id": "a2e3abe6",
   "metadata": {},
   "outputs": [
    {
     "data": {
      "text/html": [
       "<div>\n",
       "<style scoped>\n",
       "    .dataframe tbody tr th:only-of-type {\n",
       "        vertical-align: middle;\n",
       "    }\n",
       "\n",
       "    .dataframe tbody tr th {\n",
       "        vertical-align: top;\n",
       "    }\n",
       "\n",
       "    .dataframe thead th {\n",
       "        text-align: right;\n",
       "    }\n",
       "</style>\n",
       "<table border=\"1\" class=\"dataframe\">\n",
       "  <thead>\n",
       "    <tr style=\"text-align: right;\">\n",
       "      <th></th>\n",
       "    </tr>\n",
       "  </thead>\n",
       "  <tbody>\n",
       "    <tr>\n",
       "      <th>MAGEC1</th>\n",
       "    </tr>\n",
       "    <tr>\n",
       "      <th>MAGEC2</th>\n",
       "    </tr>\n",
       "    <tr>\n",
       "      <th>GJB6</th>\n",
       "    </tr>\n",
       "    <tr>\n",
       "      <th>DSG1</th>\n",
       "    </tr>\n",
       "    <tr>\n",
       "      <th>DSC3</th>\n",
       "    </tr>\n",
       "    <tr>\n",
       "      <th>...</th>\n",
       "    </tr>\n",
       "    <tr>\n",
       "      <th>ITGB8</th>\n",
       "    </tr>\n",
       "    <tr>\n",
       "      <th>SH2D1A</th>\n",
       "    </tr>\n",
       "    <tr>\n",
       "      <th>SLC26A4</th>\n",
       "    </tr>\n",
       "    <tr>\n",
       "      <th>GDF15</th>\n",
       "    </tr>\n",
       "    <tr>\n",
       "      <th>ABCC11</th>\n",
       "    </tr>\n",
       "  </tbody>\n",
       "</table>\n",
       "<p>1500 rows × 0 columns</p>\n",
       "</div>"
      ],
      "text/plain": [
       "Empty DataFrame\n",
       "Columns: []\n",
       "Index: [MAGEC1, MAGEC2, GJB6, DSG1, DSC3, TFAP2B, KLK6, KRT1, KRT14, TYRP1, KRT6A, NELL1, BAGE3, BAGE4, KRT5, KRT6C, TPTE, FAM83B, KRT15, GATA4, CFHR4, KRT6B, LRRTM4, SSX1, PIK3C2G, RPTN, DSC1, KRT17, SCEL, GRHL2, KRT16, RPS4Y1, KRT19, KRTDAP, MAL2, SDR16C5, TRIM29, ALDH3B2, COL9A1, PSG4, SLC5A1, KRT2, FAM178B, AKR1B10, DSG3, SLC15A1, EYA1, ZNF536, CLCA2, MUC15, EIF1AY, ABCB5, KRTAP19-1, CSAG3, OCA2, TGM3, ITGB6, PNLIPRP3, SPINK5, ANXA8, BAGE, FAM133A, GABRG3, GDA, IRS4, LCN2, ONECUT1, PADI1, PAGE5, PI3, PKP1, PLA2G4F, POF1B, PPP2R2C, PSG11, PSG9, SERPINB7, SLPI, TMSB4Y, WT1, ZFP57, CHST9, GABRA3, MAGEA6, PMP2, PKHD1, DUOXA1, MUC7, MAGEA12, CSAG1, KRT73, NR0B1, PSG3, PSG7, RAB25, SLCO1A2, SBSN, SERPINB2, SOX2, XDH, ...]\n",
       "\n",
       "[1500 rows x 0 columns]"
      ]
     },
     "execution_count": 8,
     "metadata": {},
     "output_type": "execute_result"
    }
   ],
   "source": [
    "adata.var"
   ]
  },
  {
   "cell_type": "code",
   "execution_count": 9,
   "id": "e2adb46c",
   "metadata": {},
   "outputs": [
    {
     "data": {
      "text/html": [
       "<div>\n",
       "<style scoped>\n",
       "    .dataframe tbody tr th:only-of-type {\n",
       "        vertical-align: middle;\n",
       "    }\n",
       "\n",
       "    .dataframe tbody tr th {\n",
       "        vertical-align: top;\n",
       "    }\n",
       "\n",
       "    .dataframe thead th {\n",
       "        text-align: right;\n",
       "    }\n",
       "</style>\n",
       "<table border=\"1\" class=\"dataframe\">\n",
       "  <thead>\n",
       "    <tr style=\"text-align: right;\">\n",
       "      <th></th>\n",
       "      <th>cluster_id</th>\n",
       "    </tr>\n",
       "  </thead>\n",
       "  <tbody>\n",
       "    <tr>\n",
       "      <th>V1</th>\n",
       "      <td>V1</td>\n",
       "    </tr>\n",
       "    <tr>\n",
       "      <th>V2</th>\n",
       "      <td>V2</td>\n",
       "    </tr>\n",
       "    <tr>\n",
       "      <th>V3</th>\n",
       "      <td>V3</td>\n",
       "    </tr>\n",
       "    <tr>\n",
       "      <th>V4</th>\n",
       "      <td>V4</td>\n",
       "    </tr>\n",
       "    <tr>\n",
       "      <th>V5</th>\n",
       "      <td>V5</td>\n",
       "    </tr>\n",
       "    <tr>\n",
       "      <th>V6</th>\n",
       "      <td>V6</td>\n",
       "    </tr>\n",
       "    <tr>\n",
       "      <th>V7</th>\n",
       "      <td>V7</td>\n",
       "    </tr>\n",
       "  </tbody>\n",
       "</table>\n",
       "</div>"
      ],
      "text/plain": [
       "   cluster_id\n",
       "V1         V1\n",
       "V2         V2\n",
       "V3         V3\n",
       "V4         V4\n",
       "V5         V5\n",
       "V6         V6\n",
       "V7         V7"
      ]
     },
     "execution_count": 9,
     "metadata": {},
     "output_type": "execute_result"
    }
   ],
   "source": [
    "adata.obs"
   ]
  },
  {
   "cell_type": "code",
   "execution_count": 10,
   "id": "430cd436",
   "metadata": {},
   "outputs": [
    {
     "data": {
      "text/html": [
       "<div>\n",
       "<style scoped>\n",
       "    .dataframe tbody tr th:only-of-type {\n",
       "        vertical-align: middle;\n",
       "    }\n",
       "\n",
       "    .dataframe tbody tr th {\n",
       "        vertical-align: top;\n",
       "    }\n",
       "\n",
       "    .dataframe thead th {\n",
       "        text-align: right;\n",
       "    }\n",
       "</style>\n",
       "<table border=\"1\" class=\"dataframe\">\n",
       "  <thead>\n",
       "    <tr style=\"text-align: right;\">\n",
       "      <th></th>\n",
       "      <th>CO39262-294984-2472</th>\n",
       "      <th>CO39262-294986-2469</th>\n",
       "      <th>CO39262-295209-3203</th>\n",
       "      <th>CO39262-295209-3204</th>\n",
       "      <th>CO39262-295210-3200</th>\n",
       "      <th>CO39262-295210-3207</th>\n",
       "      <th>CO39262-295241-3202</th>\n",
       "      <th>CO39262-295241-3205</th>\n",
       "      <th>CO39262-295241-3206</th>\n",
       "      <th>CO39262-295343-3201</th>\n",
       "      <th>...</th>\n",
       "      <th>CO39262-300786-2000</th>\n",
       "      <th>CO39262-300786-2001</th>\n",
       "      <th>CO39262-300786-2004</th>\n",
       "      <th>CO39262-300786-2009</th>\n",
       "      <th>CO39262-300937-2138</th>\n",
       "      <th>CO39262-300937-2146</th>\n",
       "      <th>CO39262-304465-1514</th>\n",
       "      <th>CO39262-304587-2971</th>\n",
       "      <th>CO39262-304587-2974</th>\n",
       "      <th>CO39262-305602-1007</th>\n",
       "    </tr>\n",
       "    <tr>\n",
       "      <th>cluster_id</th>\n",
       "      <th></th>\n",
       "      <th></th>\n",
       "      <th></th>\n",
       "      <th></th>\n",
       "      <th></th>\n",
       "      <th></th>\n",
       "      <th></th>\n",
       "      <th></th>\n",
       "      <th></th>\n",
       "      <th></th>\n",
       "      <th></th>\n",
       "      <th></th>\n",
       "      <th></th>\n",
       "      <th></th>\n",
       "      <th></th>\n",
       "      <th></th>\n",
       "      <th></th>\n",
       "      <th></th>\n",
       "      <th></th>\n",
       "      <th></th>\n",
       "      <th></th>\n",
       "    </tr>\n",
       "  </thead>\n",
       "  <tbody>\n",
       "    <tr>\n",
       "      <th>V1</th>\n",
       "      <td>2.946777e-02</td>\n",
       "      <td>0.004093</td>\n",
       "      <td>0.043211</td>\n",
       "      <td>0.119997</td>\n",
       "      <td>0.017096</td>\n",
       "      <td>0.029710</td>\n",
       "      <td>0.066921</td>\n",
       "      <td>0.000876</td>\n",
       "      <td>8.924199e-02</td>\n",
       "      <td>0.206239</td>\n",
       "      <td>...</td>\n",
       "      <td>7.659130e-02</td>\n",
       "      <td>0.160903</td>\n",
       "      <td>0.010032</td>\n",
       "      <td>0.000601</td>\n",
       "      <td>0.028044</td>\n",
       "      <td>0.022137</td>\n",
       "      <td>0.084895</td>\n",
       "      <td>0.019943</td>\n",
       "      <td>0.001255</td>\n",
       "      <td>0.200357</td>\n",
       "    </tr>\n",
       "    <tr>\n",
       "      <th>V2</th>\n",
       "      <td>2.220446e-16</td>\n",
       "      <td>0.095493</td>\n",
       "      <td>0.057197</td>\n",
       "      <td>0.041751</td>\n",
       "      <td>0.264143</td>\n",
       "      <td>0.263673</td>\n",
       "      <td>0.122844</td>\n",
       "      <td>0.073729</td>\n",
       "      <td>2.220446e-16</td>\n",
       "      <td>0.015092</td>\n",
       "      <td>...</td>\n",
       "      <td>2.220446e-16</td>\n",
       "      <td>0.004534</td>\n",
       "      <td>0.015386</td>\n",
       "      <td>0.007022</td>\n",
       "      <td>0.027242</td>\n",
       "      <td>0.120432</td>\n",
       "      <td>0.033406</td>\n",
       "      <td>0.000066</td>\n",
       "      <td>0.259836</td>\n",
       "      <td>0.004631</td>\n",
       "    </tr>\n",
       "  </tbody>\n",
       "</table>\n",
       "<p>2 rows × 479 columns</p>\n",
       "</div>"
      ],
      "text/plain": [
       "            CO39262-294984-2472  CO39262-294986-2469  CO39262-295209-3203  \\\n",
       "cluster_id                                                                  \n",
       "V1                 2.946777e-02             0.004093             0.043211   \n",
       "V2                 2.220446e-16             0.095493             0.057197   \n",
       "\n",
       "            CO39262-295209-3204  CO39262-295210-3200  CO39262-295210-3207  \\\n",
       "cluster_id                                                                  \n",
       "V1                     0.119997             0.017096             0.029710   \n",
       "V2                     0.041751             0.264143             0.263673   \n",
       "\n",
       "            CO39262-295241-3202  CO39262-295241-3205  CO39262-295241-3206  \\\n",
       "cluster_id                                                                  \n",
       "V1                     0.066921             0.000876         8.924199e-02   \n",
       "V2                     0.122844             0.073729         2.220446e-16   \n",
       "\n",
       "            CO39262-295343-3201  ...  CO39262-300786-2000  \\\n",
       "cluster_id                       ...                        \n",
       "V1                     0.206239  ...         7.659130e-02   \n",
       "V2                     0.015092  ...         2.220446e-16   \n",
       "\n",
       "            CO39262-300786-2001  CO39262-300786-2004  CO39262-300786-2009  \\\n",
       "cluster_id                                                                  \n",
       "V1                     0.160903             0.010032             0.000601   \n",
       "V2                     0.004534             0.015386             0.007022   \n",
       "\n",
       "            CO39262-300937-2138  CO39262-300937-2146  CO39262-304465-1514  \\\n",
       "cluster_id                                                                  \n",
       "V1                     0.028044             0.022137             0.084895   \n",
       "V2                     0.027242             0.120432             0.033406   \n",
       "\n",
       "            CO39262-304587-2971  CO39262-304587-2974  CO39262-305602-1007  \n",
       "cluster_id                                                                 \n",
       "V1                     0.019943             0.001255             0.200357  \n",
       "V2                     0.000066             0.259836             0.004631  \n",
       "\n",
       "[2 rows x 479 columns]"
      ]
     },
     "execution_count": 10,
     "metadata": {},
     "output_type": "execute_result"
    }
   ],
   "source": [
    "nmf_coeffs = pd.read_csv(data_path+'nmf150_H.csv', sep=',', index_col=0)\n",
    "nmf_coeffs['cluster_id'] = nmf_coeffs.index.map(lambda x: 'V'+str(x))\n",
    "nmf_coeffs = nmf_coeffs.set_index('cluster_id')\n",
    "nmf_coeffs.head(2)"
   ]
  },
  {
   "cell_type": "markdown",
   "id": "18dc7e98",
   "metadata": {},
   "source": [
    "## Run with it"
   ]
  },
  {
   "cell_type": "code",
   "execution_count": 11,
   "id": "991e3a2b",
   "metadata": {},
   "outputs": [],
   "source": [
    "cluster_label='cluster_id'"
   ]
  },
  {
   "cell_type": "code",
   "execution_count": 12,
   "id": "09dce10b",
   "metadata": {},
   "outputs": [],
   "source": [
    "sample_name='CO39262-297203-2231'"
   ]
  },
  {
   "cell_type": "code",
   "execution_count": 13,
   "id": "3b070cc8",
   "metadata": {},
   "outputs": [
    {
     "name": "stderr",
     "output_type": "stream",
     "text": [
      "/gstore/home/tripaa18/miniconda3/envs/tangram-env/lib/python3.8/site-packages/anndata/_core/anndata.py:121: ImplicitModificationWarning: Transforming to str index.\n",
      "  warnings.warn(\"Transforming to str index.\", ImplicitModificationWarning)\n"
     ]
    }
   ],
   "source": [
    "adata_ret = adata_to_nmf_factor_expression(adata=adata, \n",
    "                                           cluster_label = cluster_label, \n",
    "                                           nmf_coeffs = nmf_coeffs, \n",
    "                                           sample_name = sample_name, \n",
    "                                           add_density=True)"
   ]
  },
  {
   "cell_type": "code",
   "execution_count": 14,
   "id": "21be0cad",
   "metadata": {},
   "outputs": [
    {
     "data": {
      "text/plain": [
       "AnnData object with n_obs × n_vars = 7 × 1500\n",
       "    obs: 'cluster_id', 'cluster_density'"
      ]
     },
     "execution_count": 14,
     "metadata": {},
     "output_type": "execute_result"
    }
   ],
   "source": [
    "adata_ret"
   ]
  },
  {
   "cell_type": "code",
   "execution_count": 17,
   "id": "b5b551b9",
   "metadata": {},
   "outputs": [
    {
     "data": {
      "text/plain": [
       "cluster_id\n",
       "V1    3.170029e-01\n",
       "V2    1.190991e-01\n",
       "V3    6.060443e-16\n",
       "V4    2.218394e-01\n",
       "V5    1.882700e-01\n",
       "V6    1.030036e-01\n",
       "V7    5.078502e-02\n",
       "Name: CO39262-297203-2231, dtype: float64"
      ]
     },
     "execution_count": 17,
     "metadata": {},
     "output_type": "execute_result"
    }
   ],
   "source": [
    "nmf_coeffs[sample_name] / nmf_coeffs[sample_name].sum()"
   ]
  },
  {
   "cell_type": "code",
   "execution_count": 15,
   "id": "d45ebd56",
   "metadata": {},
   "outputs": [
    {
     "data": {
      "text/plain": [
       "0    3.170029e-01\n",
       "1    1.190991e-01\n",
       "2    6.060443e-16\n",
       "3    2.218394e-01\n",
       "4    1.882700e-01\n",
       "5    1.030036e-01\n",
       "6    5.078502e-02\n",
       "Name: cluster_density, dtype: float64"
      ]
     },
     "execution_count": 15,
     "metadata": {},
     "output_type": "execute_result"
    }
   ],
   "source": [
    "adata_ret.obs['cluster_density']"
   ]
  },
  {
   "cell_type": "code",
   "execution_count": 18,
   "id": "ae856fa7",
   "metadata": {},
   "outputs": [
    {
     "data": {
      "text/html": [
       "<div>\n",
       "<style scoped>\n",
       "    .dataframe tbody tr th:only-of-type {\n",
       "        vertical-align: middle;\n",
       "    }\n",
       "\n",
       "    .dataframe tbody tr th {\n",
       "        vertical-align: top;\n",
       "    }\n",
       "\n",
       "    .dataframe thead th {\n",
       "        text-align: right;\n",
       "    }\n",
       "</style>\n",
       "<table border=\"1\" class=\"dataframe\">\n",
       "  <thead>\n",
       "    <tr style=\"text-align: right;\">\n",
       "      <th></th>\n",
       "    </tr>\n",
       "  </thead>\n",
       "  <tbody>\n",
       "    <tr>\n",
       "      <th>MAGEC1</th>\n",
       "    </tr>\n",
       "    <tr>\n",
       "      <th>MAGEC2</th>\n",
       "    </tr>\n",
       "    <tr>\n",
       "      <th>GJB6</th>\n",
       "    </tr>\n",
       "    <tr>\n",
       "      <th>DSG1</th>\n",
       "    </tr>\n",
       "    <tr>\n",
       "      <th>DSC3</th>\n",
       "    </tr>\n",
       "    <tr>\n",
       "      <th>...</th>\n",
       "    </tr>\n",
       "    <tr>\n",
       "      <th>ITGB8</th>\n",
       "    </tr>\n",
       "    <tr>\n",
       "      <th>SH2D1A</th>\n",
       "    </tr>\n",
       "    <tr>\n",
       "      <th>SLC26A4</th>\n",
       "    </tr>\n",
       "    <tr>\n",
       "      <th>GDF15</th>\n",
       "    </tr>\n",
       "    <tr>\n",
       "      <th>ABCC11</th>\n",
       "    </tr>\n",
       "  </tbody>\n",
       "</table>\n",
       "<p>1500 rows × 0 columns</p>\n",
       "</div>"
      ],
      "text/plain": [
       "Empty DataFrame\n",
       "Columns: []\n",
       "Index: [MAGEC1, MAGEC2, GJB6, DSG1, DSC3, TFAP2B, KLK6, KRT1, KRT14, TYRP1, KRT6A, NELL1, BAGE3, BAGE4, KRT5, KRT6C, TPTE, FAM83B, KRT15, GATA4, CFHR4, KRT6B, LRRTM4, SSX1, PIK3C2G, RPTN, DSC1, KRT17, SCEL, GRHL2, KRT16, RPS4Y1, KRT19, KRTDAP, MAL2, SDR16C5, TRIM29, ALDH3B2, COL9A1, PSG4, SLC5A1, KRT2, FAM178B, AKR1B10, DSG3, SLC15A1, EYA1, ZNF536, CLCA2, MUC15, EIF1AY, ABCB5, KRTAP19-1, CSAG3, OCA2, TGM3, ITGB6, PNLIPRP3, SPINK5, ANXA8, BAGE, FAM133A, GABRG3, GDA, IRS4, LCN2, ONECUT1, PADI1, PAGE5, PI3, PKP1, PLA2G4F, POF1B, PPP2R2C, PSG11, PSG9, SERPINB7, SLPI, TMSB4Y, WT1, ZFP57, CHST9, GABRA3, MAGEA6, PMP2, PKHD1, DUOXA1, MUC7, MAGEA12, CSAG1, KRT73, NR0B1, PSG3, PSG7, RAB25, SLCO1A2, SBSN, SERPINB2, SOX2, XDH, ...]\n",
       "\n",
       "[1500 rows x 0 columns]"
      ]
     },
     "execution_count": 18,
     "metadata": {},
     "output_type": "execute_result"
    }
   ],
   "source": [
    "adata_ret.var"
   ]
  },
  {
   "cell_type": "code",
   "execution_count": 19,
   "id": "20b7a74f",
   "metadata": {},
   "outputs": [
    {
     "data": {
      "text/plain": [
       "array([[0.8095371127128601, 0.2668927311897278, 0.03433814272284508, ...,\n",
       "        1.8158457279205322, 2.356261730194092, 1.1201705932617188],\n",
       "       [0.30051934719085693, 0.0918399915099144, 6.4512258514638344e-18,\n",
       "        ..., 0.6470842361450195, 0.5741303563117981, 0.09122151881456375],\n",
       "       [8.570383121855049e-16, 3.8185390320324754e-32,\n",
       "        3.8185390320324754e-32, ..., 8.018663447100633e-16,\n",
       "        3.8185390320324754e-32, 1.1263260738645265e-15],\n",
       "       ...,\n",
       "       [0.47570866346359253, 0.10212508589029312, 0.44500380754470825,\n",
       "        ..., 0.7611825466156006, 0.8226573467254639, 0.5707228779792786],\n",
       "       [0.17652665078639984, 0.03356831893324852, 0.6042942404747009,\n",
       "        ..., 0.6698748469352722, 0.8362780213356018, 0.8895037770271301],\n",
       "       [0.02817491628229618, 0.03572763875126839, 0.35892224311828613,\n",
       "        ..., 0.1061231717467308, 0.11332416534423828,\n",
       "        0.07599412649869919]], dtype=object)"
      ]
     },
     "execution_count": 19,
     "metadata": {},
     "output_type": "execute_result"
    }
   ],
   "source": [
    "adata_ret.X"
   ]
  },
  {
   "cell_type": "markdown",
   "id": "e024e949",
   "metadata": {},
   "source": [
    "# Scratch"
   ]
  },
  {
   "cell_type": "code",
   "execution_count": 134,
   "id": "7abd18a3",
   "metadata": {},
   "outputs": [],
   "source": [
    "try:\n",
    "    unique_labels = adata.obs[cluster_label].unique()\n",
    "except KeyError as e:\n",
    "    raise ValueError(\"Provided label must belong to adata.obs.\")"
   ]
  },
  {
   "cell_type": "code",
   "execution_count": 135,
   "id": "24e97b07",
   "metadata": {},
   "outputs": [
    {
     "data": {
      "text/plain": [
       "array(['V1', 'V2', 'V3', 'V4', 'V5', 'V6', 'V7'], dtype=object)"
      ]
     },
     "execution_count": 135,
     "metadata": {},
     "output_type": "execute_result"
    }
   ],
   "source": [
    "unique_labels"
   ]
  },
  {
   "cell_type": "code",
   "execution_count": 136,
   "id": "55221676",
   "metadata": {},
   "outputs": [
    {
     "name": "stderr",
     "output_type": "stream",
     "text": [
      "/gstore/home/tripaa18/miniconda3/envs/tangram-env/lib/python3.8/site-packages/anndata/_core/anndata.py:121: ImplicitModificationWarning: Transforming to str index.\n",
      "  warnings.warn(\"Transforming to str index.\", ImplicitModificationWarning)\n"
     ]
    }
   ],
   "source": [
    "new_obs = pd.DataFrame({cluster_label: unique_labels})\n",
    "adata_ret = sc.AnnData(obs=new_obs, var=adata.var, uns=adata.uns)\n",
    "X_new = np.empty((len(unique_labels), adata.shape[1]))"
   ]
  },
  {
   "cell_type": "code",
   "execution_count": 137,
   "id": "fdc5236b",
   "metadata": {},
   "outputs": [
    {
     "data": {
      "text/plain": [
       "(7, 1500)"
      ]
     },
     "execution_count": 137,
     "metadata": {},
     "output_type": "execute_result"
    }
   ],
   "source": [
    "X_new.shape"
   ]
  },
  {
   "cell_type": "code",
   "execution_count": 138,
   "id": "873cb87d",
   "metadata": {},
   "outputs": [
    {
     "data": {
      "text/plain": [
       "(1500,)"
      ]
     },
     "execution_count": 138,
     "metadata": {},
     "output_type": "execute_result"
    }
   ],
   "source": [
    "X_new[1].shape"
   ]
  },
  {
   "cell_type": "code",
   "execution_count": 139,
   "id": "3d164d32",
   "metadata": {},
   "outputs": [
    {
     "data": {
      "text/plain": [
       "(1, 1500)"
      ]
     },
     "execution_count": 139,
     "metadata": {},
     "output_type": "execute_result"
    }
   ],
   "source": [
    "np.multiply(adata[adata.obs[cluster_label] == l].X, nmf_coeffs[sample_name].loc[l]).shape"
   ]
  },
  {
   "cell_type": "code",
   "execution_count": 140,
   "id": "ee79aad6",
   "metadata": {},
   "outputs": [
    {
     "data": {
      "text/plain": [
       "AnnData object with n_obs × n_vars = 7 × 1500\n",
       "    obs: 'cluster_id'"
      ]
     },
     "execution_count": 140,
     "metadata": {},
     "output_type": "execute_result"
    }
   ],
   "source": [
    "adata_ret"
   ]
  },
  {
   "cell_type": "code",
   "execution_count": 141,
   "id": "f76fe849",
   "metadata": {},
   "outputs": [
    {
     "data": {
      "text/plain": [
       "(7, 1500)"
      ]
     },
     "execution_count": 141,
     "metadata": {},
     "output_type": "execute_result"
    }
   ],
   "source": [
    "X_new.shape"
   ]
  },
  {
   "cell_type": "code",
   "execution_count": 142,
   "id": "51923f80",
   "metadata": {},
   "outputs": [
    {
     "name": "stdout",
     "output_type": "stream",
     "text": [
      "0\n",
      "V1\n",
      "(1500,)\n",
      "(1, 1500)\n",
      "1\n",
      "V2\n",
      "(1500,)\n",
      "(1, 1500)\n",
      "2\n",
      "V3\n",
      "(1500,)\n",
      "(1, 1500)\n",
      "3\n",
      "V4\n",
      "(1500,)\n",
      "(1, 1500)\n",
      "4\n",
      "V5\n",
      "(1500,)\n",
      "(1, 1500)\n",
      "5\n",
      "V6\n",
      "(1500,)\n",
      "(1, 1500)\n",
      "6\n",
      "V7\n",
      "(1500,)\n",
      "(1, 1500)\n"
     ]
    }
   ],
   "source": [
    "for index, l in enumerate(unique_labels):\n",
    "    print(index)\n",
    "    print(l)\n",
    "    print(X_new[index].shape)\n",
    "    print(np.multiply(adata[adata.obs[cluster_label] == l].X, nmf_coeffs[sample_name].loc[l]).shape)\n",
    "# adata_ret.X = X_new"
   ]
  },
  {
   "cell_type": "code",
   "execution_count": 143,
   "id": "4df1d28e",
   "metadata": {},
   "outputs": [
    {
     "data": {
      "text/plain": [
       "AnnData object with n_obs × n_vars = 7 × 1500\n",
       "    obs: 'cluster_id'"
      ]
     },
     "execution_count": 143,
     "metadata": {},
     "output_type": "execute_result"
    }
   ],
   "source": [
    "adata"
   ]
  },
  {
   "cell_type": "code",
   "execution_count": 144,
   "id": "61178c74",
   "metadata": {},
   "outputs": [
    {
     "data": {
      "text/plain": [
       "ArrayView([[ 6.970078  ,  2.2979343 ,  0.29564986, ..., 15.63435   ,\n",
       "            20.287308  ,  9.644618  ]], dtype=float32)"
      ]
     },
     "execution_count": 144,
     "metadata": {},
     "output_type": "execute_result"
    }
   ],
   "source": [
    "adata[adata.obs['cluster_id'] == 'V1'].X"
   ]
  },
  {
   "cell_type": "code",
   "execution_count": 145,
   "id": "5d1d92e3",
   "metadata": {},
   "outputs": [
    {
     "data": {
      "text/plain": [
       "0.0111911946253353"
      ]
     },
     "execution_count": 145,
     "metadata": {},
     "output_type": "execute_result"
    }
   ],
   "source": [
    "nmf_coeffs[sample_name].loc[l]"
   ]
  },
  {
   "cell_type": "code",
   "execution_count": 146,
   "id": "f8123505",
   "metadata": {},
   "outputs": [
    {
     "data": {
      "text/plain": [
       "0.11916310598592596"
      ]
     },
     "execution_count": 146,
     "metadata": {},
     "output_type": "execute_result"
    }
   ],
   "source": [
    "6.970078 * 0.0170963805549846"
   ]
  },
  {
   "cell_type": "code",
   "execution_count": 147,
   "id": "241fe043",
   "metadata": {},
   "outputs": [
    {
     "data": {
      "text/plain": [
       "ArrayView([[0.1191631 , 0.03928636, 0.00505454, ..., 0.26729077,\n",
       "            0.34683952, 0.16488805]], dtype=float32)"
      ]
     },
     "execution_count": 147,
     "metadata": {},
     "output_type": "execute_result"
    }
   ],
   "source": [
    "np.multiply(adata['V1'].X, nmf_coeffs[sample_name].loc['V1'])"
   ]
  },
  {
   "cell_type": "code",
   "execution_count": 148,
   "id": "863330dc",
   "metadata": {},
   "outputs": [],
   "source": [
    "adata_ret.X"
   ]
  },
  {
   "cell_type": "code",
   "execution_count": 149,
   "id": "b542992e",
   "metadata": {},
   "outputs": [],
   "source": [
    "adata_ret[adata_ret.obs['cluster_id'] == 'V1'].X"
   ]
  },
  {
   "cell_type": "code",
   "execution_count": 150,
   "id": "ae0e8dbe",
   "metadata": {},
   "outputs": [
    {
     "ename": "NameError",
     "evalue": "name 'value_counts' is not defined",
     "output_type": "error",
     "traceback": [
      "\u001b[0;31m---------------------------------------------------------------------------\u001b[0m",
      "\u001b[0;31mNameError\u001b[0m                                 Traceback (most recent call last)",
      "Input \u001b[0;32mIn [150]\u001b[0m, in \u001b[0;36m<cell line: 1>\u001b[0;34m()\u001b[0m\n\u001b[0;32m----> 1\u001b[0m adata_ret\u001b[38;5;241m.\u001b[39mobs[\u001b[38;5;124m\"\u001b[39m\u001b[38;5;124mcluster_density\u001b[39m\u001b[38;5;124m\"\u001b[39m] \u001b[38;5;241m=\u001b[39m \u001b[43madata_ret\u001b[49m\u001b[38;5;241;43m.\u001b[39;49m\u001b[43mobs\u001b[49m\u001b[43m[\u001b[49m\u001b[43mcluster_label\u001b[49m\u001b[43m]\u001b[49m\u001b[38;5;241;43m.\u001b[39;49m\u001b[43mmap\u001b[49m\u001b[43m(\u001b[49m\n\u001b[1;32m      2\u001b[0m \u001b[43m            \u001b[49m\u001b[38;5;28;43;01mlambda\u001b[39;49;00m\u001b[43m \u001b[49m\u001b[43mi\u001b[49m\u001b[43m:\u001b[49m\u001b[43m \u001b[49m\u001b[43mvalue_counts\u001b[49m\u001b[43m[\u001b[49m\u001b[43mi\u001b[49m\u001b[43m]\u001b[49m\n\u001b[1;32m      3\u001b[0m \u001b[43m    \u001b[49m\u001b[43m)\u001b[49m\n",
      "File \u001b[0;32m~/miniconda3/envs/tangram-env/lib/python3.8/site-packages/pandas/core/series.py:3879\u001b[0m, in \u001b[0;36mSeries.map\u001b[0;34m(self, arg, na_action)\u001b[0m\n\u001b[1;32m   3804\u001b[0m \u001b[38;5;28;01mdef\u001b[39;00m \u001b[38;5;21mmap\u001b[39m(\u001b[38;5;28mself\u001b[39m, arg, na_action\u001b[38;5;241m=\u001b[39m\u001b[38;5;28;01mNone\u001b[39;00m) \u001b[38;5;241m-\u001b[39m\u001b[38;5;241m>\u001b[39m \u001b[38;5;124m\"\u001b[39m\u001b[38;5;124mSeries\u001b[39m\u001b[38;5;124m\"\u001b[39m:\n\u001b[1;32m   3805\u001b[0m     \u001b[38;5;124;03m\"\"\"\u001b[39;00m\n\u001b[1;32m   3806\u001b[0m \u001b[38;5;124;03m    Map values of Series according to input correspondence.\u001b[39;00m\n\u001b[1;32m   3807\u001b[0m \n\u001b[0;32m   (...)\u001b[0m\n\u001b[1;32m   3877\u001b[0m \u001b[38;5;124;03m    dtype: object\u001b[39;00m\n\u001b[1;32m   3878\u001b[0m \u001b[38;5;124;03m    \"\"\"\u001b[39;00m\n\u001b[0;32m-> 3879\u001b[0m     new_values \u001b[38;5;241m=\u001b[39m \u001b[38;5;28;43msuper\u001b[39;49m\u001b[43m(\u001b[49m\u001b[43m)\u001b[49m\u001b[38;5;241;43m.\u001b[39;49m\u001b[43m_map_values\u001b[49m\u001b[43m(\u001b[49m\u001b[43marg\u001b[49m\u001b[43m,\u001b[49m\u001b[43m \u001b[49m\u001b[43mna_action\u001b[49m\u001b[38;5;241;43m=\u001b[39;49m\u001b[43mna_action\u001b[49m\u001b[43m)\u001b[49m\n\u001b[1;32m   3880\u001b[0m     \u001b[38;5;28;01mreturn\u001b[39;00m \u001b[38;5;28mself\u001b[39m\u001b[38;5;241m.\u001b[39m_constructor(new_values, index\u001b[38;5;241m=\u001b[39m\u001b[38;5;28mself\u001b[39m\u001b[38;5;241m.\u001b[39mindex)\u001b[38;5;241m.\u001b[39m__finalize__(\n\u001b[1;32m   3881\u001b[0m         \u001b[38;5;28mself\u001b[39m, method\u001b[38;5;241m=\u001b[39m\u001b[38;5;124m\"\u001b[39m\u001b[38;5;124mmap\u001b[39m\u001b[38;5;124m\"\u001b[39m\n\u001b[1;32m   3882\u001b[0m     )\n",
      "File \u001b[0;32m~/miniconda3/envs/tangram-env/lib/python3.8/site-packages/pandas/core/base.py:937\u001b[0m, in \u001b[0;36mIndexOpsMixin._map_values\u001b[0;34m(self, mapper, na_action)\u001b[0m\n\u001b[1;32m    934\u001b[0m         \u001b[38;5;28;01mraise\u001b[39;00m \u001b[38;5;167;01mValueError\u001b[39;00m(msg)\n\u001b[1;32m    936\u001b[0m \u001b[38;5;66;03m# mapper is a function\u001b[39;00m\n\u001b[0;32m--> 937\u001b[0m new_values \u001b[38;5;241m=\u001b[39m \u001b[43mmap_f\u001b[49m\u001b[43m(\u001b[49m\u001b[43mvalues\u001b[49m\u001b[43m,\u001b[49m\u001b[43m \u001b[49m\u001b[43mmapper\u001b[49m\u001b[43m)\u001b[49m\n\u001b[1;32m    939\u001b[0m \u001b[38;5;28;01mreturn\u001b[39;00m new_values\n",
      "File \u001b[0;32mpandas/_libs/lib.pyx:2467\u001b[0m, in \u001b[0;36mpandas._libs.lib.map_infer\u001b[0;34m()\u001b[0m\n",
      "Input \u001b[0;32mIn [150]\u001b[0m, in \u001b[0;36m<lambda>\u001b[0;34m(i)\u001b[0m\n\u001b[1;32m      1\u001b[0m adata_ret\u001b[38;5;241m.\u001b[39mobs[\u001b[38;5;124m\"\u001b[39m\u001b[38;5;124mcluster_density\u001b[39m\u001b[38;5;124m\"\u001b[39m] \u001b[38;5;241m=\u001b[39m adata_ret\u001b[38;5;241m.\u001b[39mobs[cluster_label]\u001b[38;5;241m.\u001b[39mmap(\n\u001b[0;32m----> 2\u001b[0m             \u001b[38;5;28;01mlambda\u001b[39;00m i: \u001b[43mvalue_counts\u001b[49m[i]\n\u001b[1;32m      3\u001b[0m     )\n",
      "\u001b[0;31mNameError\u001b[0m: name 'value_counts' is not defined"
     ]
    }
   ],
   "source": [
    "adata_ret.obs[\"cluster_density\"] = adata_ret.obs[cluster_label].map(\n",
    "            lambda i: value_counts[i]\n",
    "    )"
   ]
  },
  {
   "cell_type": "code",
   "execution_count": 120,
   "id": "0e591af6",
   "metadata": {},
   "outputs": [
    {
     "data": {
      "text/plain": [
       "AnnData object with n_obs × n_vars = 7 × 1500\n",
       "    obs: 'cluster_id', 'cluster_density'"
      ]
     },
     "execution_count": 120,
     "metadata": {},
     "output_type": "execute_result"
    }
   ],
   "source": [
    "adata_ret"
   ]
  },
  {
   "cell_type": "code",
   "execution_count": 123,
   "id": "06f20b74",
   "metadata": {},
   "outputs": [
    {
     "data": {
      "text/html": [
       "<div>\n",
       "<style scoped>\n",
       "    .dataframe tbody tr th:only-of-type {\n",
       "        vertical-align: middle;\n",
       "    }\n",
       "\n",
       "    .dataframe tbody tr th {\n",
       "        vertical-align: top;\n",
       "    }\n",
       "\n",
       "    .dataframe thead th {\n",
       "        text-align: right;\n",
       "    }\n",
       "</style>\n",
       "<table border=\"1\" class=\"dataframe\">\n",
       "  <thead>\n",
       "    <tr style=\"text-align: right;\">\n",
       "      <th></th>\n",
       "      <th>cluster_density</th>\n",
       "      <th>cluster_id</th>\n",
       "    </tr>\n",
       "  </thead>\n",
       "  <tbody>\n",
       "    <tr>\n",
       "      <th>0</th>\n",
       "      <td>0.017096</td>\n",
       "      <td>V1</td>\n",
       "    </tr>\n",
       "    <tr>\n",
       "      <th>1</th>\n",
       "      <td>0.264143</td>\n",
       "      <td>V2</td>\n",
       "    </tr>\n",
       "    <tr>\n",
       "      <th>2</th>\n",
       "      <td>0.008988</td>\n",
       "      <td>V3</td>\n",
       "    </tr>\n",
       "    <tr>\n",
       "      <th>3</th>\n",
       "      <td>0.079838</td>\n",
       "      <td>V4</td>\n",
       "    </tr>\n",
       "    <tr>\n",
       "      <th>4</th>\n",
       "      <td>0.014583</td>\n",
       "      <td>V5</td>\n",
       "    </tr>\n",
       "    <tr>\n",
       "      <th>5</th>\n",
       "      <td>0.027974</td>\n",
       "      <td>V6</td>\n",
       "    </tr>\n",
       "    <tr>\n",
       "      <th>6</th>\n",
       "      <td>0.011191</td>\n",
       "      <td>V7</td>\n",
       "    </tr>\n",
       "  </tbody>\n",
       "</table>\n",
       "</div>"
      ],
      "text/plain": [
       "   cluster_density cluster_id\n",
       "0         0.017096         V1\n",
       "1         0.264143         V2\n",
       "2         0.008988         V3\n",
       "3         0.079838         V4\n",
       "4         0.014583         V5\n",
       "5         0.027974         V6\n",
       "6         0.011191         V7"
      ]
     },
     "execution_count": 123,
     "metadata": {},
     "output_type": "execute_result"
    }
   ],
   "source": [
    "adata_ret.obs[['cluster_density', 'cluster_id']]"
   ]
  },
  {
   "cell_type": "code",
   "execution_count": 122,
   "id": "fafde784",
   "metadata": {},
   "outputs": [
    {
     "data": {
      "text/plain": [
       "cluster_id\n",
       "V1    0.017096\n",
       "V2    0.264143\n",
       "V3    0.008988\n",
       "V4    0.079838\n",
       "V5    0.014583\n",
       "V6    0.027974\n",
       "V7    0.011191\n",
       "Name: CO39262-295210-3200, dtype: float64"
      ]
     },
     "execution_count": 122,
     "metadata": {},
     "output_type": "execute_result"
    }
   ],
   "source": [
    "nmf_coeffs[sample_name]"
   ]
  },
  {
   "cell_type": "code",
   "execution_count": null,
   "id": "7fa3de35",
   "metadata": {},
   "outputs": [],
   "source": []
  },
  {
   "cell_type": "code",
   "execution_count": null,
   "id": "62149a40",
   "metadata": {},
   "outputs": [],
   "source": []
  }
 ],
 "metadata": {
  "kernelspec": {
   "display_name": "Python 3 (ipykernel)",
   "language": "python",
   "name": "python3"
  },
  "language_info": {
   "codemirror_mode": {
    "name": "ipython",
    "version": 3
   },
   "file_extension": ".py",
   "mimetype": "text/x-python",
   "name": "python",
   "nbconvert_exporter": "python",
   "pygments_lexer": "ipython3",
   "version": "3.8.13"
  }
 },
 "nbformat": 4,
 "nbformat_minor": 5
}
